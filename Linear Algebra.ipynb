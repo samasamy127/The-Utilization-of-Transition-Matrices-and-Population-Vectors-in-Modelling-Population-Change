{
  "nbformat": 4,
  "nbformat_minor": 0,
  "metadata": {
    "colab": {
      "provenance": []
    },
    "kernelspec": {
      "name": "python3",
      "display_name": "Python 3"
    },
    "language_info": {
      "name": "python"
    }
  },
  "cells": [
    {
      "cell_type": "code",
      "source": [
        "import numpy as np"
      ],
      "metadata": {
        "id": "v0BwaaqPs3i_"
      },
      "execution_count": null,
      "outputs": []
    },
    {
      "cell_type": "markdown",
      "source": [
        "#Collect initial population vector from user"
      ],
      "metadata": {
        "id": "XrfB4apttDo8"
      }
    },
    {
      "cell_type": "code",
      "source": [
        "def get_population_vector():\n",
        "    print(\"Enter initial population sizes for each age group:\")\n",
        "    try:\n",
        "        children = float(input(\"Children (0-14 years): \"))\n",
        "        adults = float(input(\"Adults (15-64 years): \"))\n",
        "        elderly = float(input(\"Elderly (65+ years): \"))\n",
        "        pop_vector = np.array([children, adults, elderly])\n",
        "        if np.any(pop_vector < 0):\n",
        "            raise ValueError(\"Population sizes must be non-negative.\")\n",
        "        return pop_vector\n",
        "    except ValueError as e:\n",
        "        print(f\"Error: {e}\")\n",
        "        return None"
      ],
      "metadata": {
        "id": "iZXE-Ofds8pB"
      },
      "execution_count": null,
      "outputs": []
    },
    {
      "cell_type": "markdown",
      "source": [
        "#Collect transition matrix as percentages with detailed guidance"
      ],
      "metadata": {
        "id": "nluTYsVitLm-"
      }
    },
    {
      "cell_type": "code",
      "execution_count": null,
      "metadata": {
        "id": "xmyDSN2-p6mt"
      },
      "outputs": [],
      "source": [
        "def get_transition_matrix():\n",
        "    print(\" Enter percentages (0 to 100) for how people move between age groups each year.\")\n",
        "    print(\"Each group (Children, Adults, Elderly) needs 3 percentages:\")\n",
        "    print(\"- Children: EX: birth rate from Adults (typically 5-10%)\")\n",
        "    print(\"- Adults: EX: Children aging to Adults (typically 90-95%)\")\n",
        "    print(\"- Elderly: EX: Adults aging to Elderly (typically 5-10%)\")\n",
        "    print(\"Each group's percentages must sum to <= 100% (remainder is mortality, such as 10% die).\")\n",
        "    print(\"\\nExample Matrix (realistic values):\")\n",
        "    print(\"From:       | To Children | To Adults | To Elderly\")\n",
        "    print(\"------------|-------------|-----------|-----------\")\n",
        "    print(\"Children    | 0% (no stay)| 95% (aging)| 0% (none) \")\n",
        "    print(\"Adults      | 10% (births)| 85% (stay)| 0% (none) \")\n",
        "    print(\"Elderly     | 0% (none)  | 5% (aging)| 90% (stay)\")\n",
        "    print(\"\\nColumn sums: 10% (90% die), 100% (no deaths), 90% (10% die)\")\n",
        "    print(\"Tip: Avoid high values like 70% for births, as they may exceed 100%.\")\n",
        "\n",
        "    try:\n",
        "        matrix = np.zeros((3, 3))\n",
        "        groups = [\"Children\", \"Adults\", \"Elderly\"]\n",
        "        prompts = [\n",
        "            [\"staying Children (usually 0-5%)\", \"aging to Adults (EX: 90-95%)\", \"becoming Elderly (usually 0%)\"],\n",
        "            [\"give birth to Children (birth rate, EX: 5-10%)\", \"staying Adults (EX: 85-95%)\", \"aging to Elderly (EX: 5-10%)\"],\n",
        "            [\"give birth to Children (usually 0%)\", \"becoming Adults (usually 0%)\", \"staying Elderly (EX: 80-90%)\"]\n",
        "        ]\n",
        "        for j in range(3):\n",
        "            while True:\n",
        "                print(f\"\\nEnter percentages for {groups[j]} at time t:\")\n",
        "                col = []\n",
        "                for i in range(3):\n",
        "                    prompt = f\"Percentage {prompts[j][i]} (0-100): \"\n",
        "                    percentage = float(input(prompt))\n",
        "                    if percentage < 0 or percentage > 100:\n",
        "                        raise ValueError(f\"Percentage {prompts[j][i]} must be between 0 and 100.\")\n",
        "                    col.append(percentage)\n",
        "                col_sum = sum(col)\n",
        "                if col_sum > 100.001:\n",
        "                    print(f\"Error: Sum of percentages ({col_sum}%) exceeds 100%.\")\n",
        "                    print(f\"You entered: {col[0]}% to Children, {col[1]}% to Adults, {col[2]}% to Elderly.\")\n",
        "                    print(\"Try reducing values (e.g., birth rate to 5-10%, survival to 85-95%).\")\n",
        "                    continue\n",
        "\n",
        "                for i in range(3):\n",
        "                    matrix[i, j] = col[i] / 100\n",
        "                print(f\"Sum for {groups[j]}: {col_sum}% (valid)\")\n",
        "                break\n",
        "        return matrix\n",
        "    except ValueError as e:\n",
        "        print(f\"Error: {e}\")\n",
        "        return None"
      ]
    },
    {
      "cell_type": "markdown",
      "source": [
        "#Simulate population changes over time\n"
      ],
      "metadata": {
        "id": "ep0x4e_FtXwE"
      }
    },
    {
      "cell_type": "code",
      "source": [
        "def simulate_population(initial_pop, trans_matrix, steps, step_by_step=True):\n",
        "    if step_by_step:\n",
        "        current_pop = initial_pop.copy()\n",
        "        print(\"\\nStep-by-step simulation:\")\n",
        "        print(f\"Step 0: {current_pop}\")\n",
        "        for t in range(1, steps + 1):\n",
        "            current_pop = np.dot(trans_matrix, current_pop)\n",
        "\n",
        "            print(f\"Step {t}: {current_pop}\")\n",
        "        return current_pop\n",
        "    else:\n",
        "        trans_matrix_power = np.linalg.matrix_power(trans_matrix, steps)\n",
        "        final_pop = np.dot(trans_matrix_power, initial_pop)\n",
        "        print(f\"\\nPopulation after {steps} steps: {final_pop}\")\n",
        "        return final_pop"
      ],
      "metadata": {
        "id": "AIo25t1MqBt8"
      },
      "execution_count": null,
      "outputs": []
    },
    {
      "cell_type": "code",
      "source": [
        "def main():\n",
        "    \"\"\"Main function to run the population model.\"\"\"\n",
        "    print(\"Population Modeling using Markov Chains\")\n",
        "    print(\"======================================\")\n",
        "    print(\"This program simulates population changes across three age groups:\")\n",
        "    print(\"1. Children (0-14 years)\")\n",
        "    print(\"2. Adults (15-64 years)\")\n",
        "    print(\"3. Elderly (65+ years)\")\n",
        "    print(\"======================================\\n\")\n",
        "\n",
        "\n",
        "    pop_vector = get_population_vector()\n",
        "    if pop_vector is None:\n",
        "        print(\"Invalid population vector. Exiting.\")\n",
        "        return\n",
        "\n",
        "\n",
        "    trans_matrix = get_transition_matrix()\n",
        "    if trans_matrix is None:\n",
        "        print(\"Invalid transition matrix. Exiting.\")\n",
        "        return\n",
        "\n",
        "\n",
        "    print(\"\\nInitial Population Vector:\")\n",
        "    print(pop_vector)\n",
        "    print(\"\\nTransition Matrix:\")\n",
        "    print(trans_matrix)\n",
        "\n",
        "\n",
        "    try:\n",
        "        steps = int(input(\"\\nEnter number of time steps to simulate: \"))\n",
        "        if steps < 0:\n",
        "            raise ValueError(\"Number of steps must be non-negative.\")\n",
        "        sim_type = input(\"Run step-by-step simulation? (yes/no): \").lower()\n",
        "        step_by_step = sim_type.startswith('y')\n",
        "    except ValueError as e:\n",
        "        print(f\"Error: {e}\")\n",
        "        return\n",
        "\n",
        "\n",
        "    final_pop = simulate_population(pop_vector, trans_matrix, steps, step_by_step)\n",
        "    print(\"\\nSimulation complete.\")\n",
        "\n",
        "if __name__ == \"__main__\":\n",
        "    main()"
      ],
      "metadata": {
        "colab": {
          "base_uri": "https://localhost:8080/"
        },
        "id": "sZn30NTotbQj",
        "outputId": "192c3330-4762-473d-c23d-5b4ea7617683"
      },
      "execution_count": null,
      "outputs": [
        {
          "output_type": "stream",
          "name": "stdout",
          "text": [
            "Population Modeling using Markov Chains\n",
            "======================================\n",
            "This program simulates population changes across three age groups:\n",
            "1. Children (0-14 years)\n",
            "2. Adults (15-64 years)\n",
            "3. Elderly (65+ years)\n",
            "======================================\n",
            "\n",
            "Enter initial population sizes for each age group:\n",
            "Children (0-14 years): 20000\n",
            "Adults (15-64 years): 20000\n",
            "Elderly (65+ years): 2000\n",
            " Enter percentages (0 to 100) for how people move between age groups each year.\n",
            "Each group (Children, Adults, Elderly) needs 3 percentages:\n",
            "- Children: EX: birth rate from Adults (typically 5-10%)\n",
            "- Adults: EX: Children aging to Adults (typically 90-95%)\n",
            "- Elderly: EX: Adults aging to Elderly (typically 5-10%)\n",
            "Each group's percentages must sum to <= 100% (remainder is mortality, such as 10% die).\n",
            "\n",
            "Example Matrix (realistic values):\n",
            "From:       | To Children | To Adults | To Elderly\n",
            "------------|-------------|-----------|-----------\n",
            "Children    | 0% (no stay)| 95% (aging)| 0% (none) \n",
            "Adults      | 10% (births)| 85% (stay)| 0% (none) \n",
            "Elderly     | 0% (none)  | 5% (aging)| 90% (stay)\n",
            "\n",
            "Column sums: 10% (90% die), 100% (no deaths), 90% (10% die)\n",
            "Tip: Avoid high values like 70% for births, as they may exceed 100%.\n",
            "\n",
            "Enter percentages for Children at time t:\n",
            "Percentage staying Children (usually 0-5%) (0-100): 4\n",
            "Percentage aging to Adults (EX: 90-95%) (0-100): 90\n",
            "Percentage becoming Elderly (usually 0%) (0-100): 0\n",
            "Sum for Children: 94.0% (valid)\n",
            "\n",
            "Enter percentages for Adults at time t:\n",
            "Percentage give birth to Children (birth rate, EX: 5-10%) (0-100): 7\n",
            "Percentage staying Adults (EX: 85-95%) (0-100): 85\n",
            "Percentage aging to Elderly (EX: 5-10%) (0-100): 5\n",
            "Sum for Adults: 97.0% (valid)\n",
            "\n",
            "Enter percentages for Elderly at time t:\n",
            "Percentage give birth to Children (usually 0%) (0-100): 0\n",
            "Percentage becoming Adults (usually 0%) (0-100): 0\n",
            "Percentage staying Elderly (EX: 80-90%) (0-100): 85\n",
            "Sum for Elderly: 85.0% (valid)\n",
            "\n",
            "Initial Population Vector:\n",
            "[20000. 20000.  2000.]\n",
            "\n",
            "Transition Matrix:\n",
            "[[0.04 0.07 0.  ]\n",
            " [0.9  0.85 0.  ]\n",
            " [0.   0.05 0.85]]\n",
            "\n",
            "Enter number of time steps to simulate: 3\n",
            "Run step-by-step simulation? (yes/no): yes \n",
            "\n",
            "Step-by-step simulation:\n",
            "Step 0: [20000. 20000.  2000.]\n",
            "Step 1: [ 2200. 35000.  2700.]\n",
            "Step 2: [ 2538. 31730.  4045.]\n",
            "Step 3: [ 2322.62 29254.7   5024.75]\n",
            "\n",
            "Simulation complete.\n"
          ]
        }
      ]
    },
    {
      "cell_type": "code",
      "source": [],
      "metadata": {
        "id": "28Xo1Ywgtk3v"
      },
      "execution_count": null,
      "outputs": []
    }
  ]
}